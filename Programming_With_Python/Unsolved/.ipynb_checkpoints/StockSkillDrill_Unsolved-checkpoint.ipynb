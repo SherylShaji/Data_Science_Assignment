{
 "cells": [
  {
   "cell_type": "code",
   "execution_count": 16,
   "metadata": {},
   "outputs": [],
   "source": [
    "# Import the 'os' and 'csv' libraries\n",
    "import os\n",
    "import csv"
   ]
  },
  {
   "cell_type": "code",
   "execution_count": 17,
   "metadata": {},
   "outputs": [],
   "source": [
    "# Set path for importing our CSV file\n",
    "file_path = os.path.join('../','Resources', 'yahoo_stock.csv')"
   ]
  },
  {
   "cell_type": "code",
   "execution_count": 18,
   "metadata": {},
   "outputs": [
    {
     "name": "stdout",
     "output_type": "stream",
     "text": [
      "{'Date': '3/13/2020', 'High': '2711.330078', 'Low': '2492.370117', 'Volume': '8258670000'}\n",
      "Greatest Percent Change: 5.488\n"
     ]
    }
   ],
   "source": [
    "# Open a connection to the comma-delimited csv file \n",
    "with open(file_path) as file:\n",
    "    # Read in the CSV file using csv.DictReader() class\n",
    "    reader = csv.DictReader(file, delimiter=',')\n",
    "    # Create a variable to save our print row and greatest daily percent change\n",
    "    printrow={'Date':'11/23/2015','High':2095.610,'Low':2081.390,'Volume':3587980000}\n",
    "    max_pct=-0.135 #percent change for the first row of the table\n",
    "    # Iterate through each row\n",
    "    for row in reader:    \n",
    "        # For each row, calculate the daily percent change\n",
    "        d_p_ch=((float(row['Close']))-(float(row['Open'])))/(float(row['Open']))*100\n",
    "        r_d_p_ch=round(d_p_ch,3)\n",
    "        # Check if the absolute daily percent change is greater than the previous max\n",
    "        if(r_d_p_ch>max_pct):\n",
    "            # If true, store new greatest daily percent change and print row\n",
    "            printrow={'Date':row['Date'],'High':row['High'],'Low':row['Low'],'Volume':row['Volume']}\n",
    "            max_pct=r_d_p_ch\n",
    "    # Print out the date, stock high, stock low, volume and percent change for the day with the greatest percent change\n",
    "    print(printrow)\n",
    "    print('Greatest Percent Change:',max_pct)"
   ]
  }
 ],
 "metadata": {
  "kernelspec": {
   "display_name": "Python 3",
   "language": "python",
   "name": "python3"
  },
  "language_info": {
   "codemirror_mode": {
    "name": "ipython",
    "version": 3
   },
   "file_extension": ".py",
   "mimetype": "text/x-python",
   "name": "python",
   "nbconvert_exporter": "python",
   "pygments_lexer": "ipython3",
   "version": "3.8.8"
  }
 },
 "nbformat": 4,
 "nbformat_minor": 4
}
